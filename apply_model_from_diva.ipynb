{
 "cells": [
  {
   "cell_type": "code",
   "execution_count": null,
   "metadata": {},
   "outputs": [],
   "source": []
  },
  {
   "cell_type": "markdown",
   "metadata": {},
   "source": [
    "# Dataloader from semantic_segmentation folder"
   ]
  },
  {
   "cell_type": "code",
   "execution_count": null,
   "metadata": {
    "pycharm": {
     "is_executing": false
    }
   },
   "outputs": [],
   "source": [
    "# Utils\n",
    "import logging\n",
    "import os\n",
    "\n",
    "import torch\n",
    "\n",
    "import numpy as np\n",
    "import matplotlib.pyplot as plt\n",
    "\n",
    "# Torch\n",
    "import torchvision.transforms as transforms\n",
    "\n",
    "# DeepDIVA\n",
    "from datasets.image_folder_segmentation import load_dataset\n",
    "from datasets.custom_transform_library import transforms as custom_transforms\n",
    "from template.setup import _load_mean_std_from_file"
   ]
  },
  {
   "cell_type": "markdown",
   "metadata": {},
   "source": [
    "###  Load GlaS dataset"
   ]
  },
  {
   "cell_type": "code",
   "execution_count": null,
   "metadata": {
    "pycharm": {
     "is_executing": false
    }
   },
   "outputs": [],
   "source": [
    "from template.runner.semantic_segmentation.setup import set_up_dataloaders\n",
    "\n",
    "train_loader, val_loader, test_loader  = set_up_dataloaders(model_expected_input_size = (254,254), \n",
    "                                                           dataset_folder = \"/home/sven/Desktop/data/GlaS_small\", \n",
    "                                                           batch_size = 4, \n",
    "                                                           workers = 1,\n",
    "                                                           disable_dataset_integrity=False, \n",
    "                                                           enable_deep_dataset_integrity=True, \n",
    "                                                           inmem=False, \n",
    "                                                           runner_class = \"semantic_segmentation\",\n",
    "                                                           imgs_in_memory = 5, \n",
    "                                                           crop_size = 256,\n",
    "                                                           crops_per_image = 10)"
   ]
  },
  {
   "cell_type": "code",
   "execution_count": null,
   "metadata": {
    "pycharm": {
     "is_executing": false
    }
   },
   "outputs": [],
   "source": [
    "len(train_loader)"
   ]
  },
  {
   "cell_type": "code",
   "execution_count": null,
   "metadata": {
    "pycharm": {
     "is_executing": false
    }
   },
   "outputs": [],
   "source": [
    "batch = next(iter(train_loader))"
   ]
  },
  {
   "cell_type": "code",
   "execution_count": null,
   "metadata": {
    "pycharm": {
     "is_executing": false
    }
   },
   "outputs": [],
   "source": [
    "batch[0].shape"
   ]
  },
  {
   "cell_type": "code",
   "execution_count": null,
   "metadata": {
    "pycharm": {
     "is_executing": false
    }
   },
   "outputs": [],
   "source": [
    "batch[1].shape"
   ]
  },
  {
   "cell_type": "markdown",
   "metadata": {},
   "source": [
    "### show shape of glas data with data loader"
   ]
  },
  {
   "cell_type": "code",
   "execution_count": null,
   "metadata": {
    "pycharm": {
     "is_executing": false
    }
   },
   "outputs": [],
   "source": [
    "%matplotlib inline\n",
    "\n",
    "f, axarr = plt.subplots(1,2)\n",
    "axarr[0].imshow(np.transpose(batch[0][3], (1,2,0)))\n",
    "axarr[0].set_title(np.shape(np.transpose(batch[0][0], (1,2,0))))\n",
    "\n",
    "axarr[1].imshow(batch[1][3])\n",
    "axarr[1].set_title(np.shape(batch[1][1]))"
   ]
  },
  {
   "cell_type": "markdown",
   "metadata": {},
   "source": [
    "### show shape of the raw files from glas data (WITHOUT Dataloader)"
   ]
  },
  {
   "cell_type": "code",
   "execution_count": null,
   "metadata": {
    "pycharm": {
     "is_executing": false
    }
   },
   "outputs": [],
   "source": [
    "import matplotlib.pyplot as plt\n",
    "from PIL import Image\n",
    "import numpy as np\n",
    "%matplotlib inline\n",
    "imgPIL = Image.open(\"/home/sven/Desktop/data/GlaS_small/test/data/testB_5.bmp\")\n",
    "maskPIL = Image.open(\"/home/sven/Desktop/data/GlaS_small/test/gt/testB_5.bmp\")\n",
    "a = np.array(maskPIL)\n",
    "\n",
    "a1 = np.array(imgPIL)\n",
    "a2 = np.array(maskPIL)\n",
    "\n",
    "print(\"dtype:\", a1.dtype)\n",
    "print(\"max:\", a1.max())\n",
    "print(\"min:\", a1.min())\n",
    "print()\n",
    "print(\"dtype:\", a2.dtype)\n",
    "print(\"max:\", a2.max())\n",
    "print(\"min:\", a2.min())\n",
    "\n",
    "\n",
    "f, axarr = plt.subplots(1,3)\n",
    "axarr[0].imshow(imgPIL)\n",
    "axarr[0].set_title(np.shape(imgPIL))\n",
    "axarr[1].imshow(a)\n",
    "axarr[1].set_title(np.shape(a))\n",
    "\n",
    "# the masks are encoded in the blue channel !!!\n",
    "axarr[2].imshow(a[:,:,2])\n",
    "axarr[2].set_title(np.shape(a[:,:,2]))\n",
    "\n",
    "print(np.unique(a2[:,:,2]))\n",
    "\n"
   ]
  },
  {
   "cell_type": "markdown",
   "metadata": {},
   "source": [
    "### show shape of new images WITHOUT dataloader"
   ]
  },
  {
   "cell_type": "code",
   "execution_count": null,
   "metadata": {
    "pycharm": {
     "is_executing": false
    }
   },
   "outputs": [],
   "source": [
    "import matplotlib.pyplot as plt\n",
    "from PIL import Image\n",
    "import numpy as np\n",
    "%matplotlib inline\n",
    "imgPIL = Image.open(\"/home/sven/Desktop/data/new_data/patch1_img.bmp\")\n",
    "maskPIL = Image.open(\"/home/sven/Desktop/data/new_data/patch1_mask.bmp\")\n",
    "a = np.array(maskPIL)\n",
    "\n",
    "a1 = np.array(imgPIL)\n",
    "a2 = np.array(maskPIL)\n",
    "\n",
    "print(\"dtype:\", a1.dtype)\n",
    "print(\"max:\", a1.max())\n",
    "print(\"min:\", a1.min())\n",
    "print()\n",
    "print(\"dtype:\", a2.dtype)\n",
    "print(\"max:\", a2.max())\n",
    "print(\"min:\", a2.min())\n",
    "\n",
    "\n",
    "f, axarr = plt.subplots(1,3)\n",
    "axarr[0].imshow(imgPIL)\n",
    "axarr[0].set_title(np.shape(imgPIL))\n",
    "axarr[1].imshow(a)\n",
    "axarr[1].set_title(np.shape(a))\n",
    "\n",
    "# the masks are encoded in the blue channel !!!\n",
    "axarr[2].imshow(a[:,:,2])\n",
    "axarr[2].set_title(np.shape(a[:,:,2]))\n",
    "\n",
    "print(np.unique(a2[:,:,2]))"
   ]
  },
  {
   "cell_type": "code",
   "execution_count": null,
   "metadata": {},
   "outputs": [],
   "source": []
  },
  {
   "cell_type": "code",
   "execution_count": null,
   "metadata": {},
   "outputs": [],
   "source": []
  },
  {
   "cell_type": "markdown",
   "metadata": {},
   "source": [
    "### Load new data with dataloader"
   ]
  },
  {
   "cell_type": "code",
   "execution_count": null,
   "metadata": {},
   "outputs": [],
   "source": []
  },
  {
   "cell_type": "code",
   "execution_count": 1,
   "metadata": {
    "pycharm": {
     "is_executing": false
    }
   },
   "outputs": [
    {
     "name": "stderr",
     "output_type": "stream",
     "text": [
      "/home/sven/PycharmProjects/DeepDIVA-Private-segmentation_original/template/setup.py:187: FutureWarning: \n",
      ".ix is deprecated. Please use\n",
      ".loc for label based indexing or\n",
      ".iloc for positional indexing\n",
      "\n",
      "See the documentation here:\n",
      "http://pandas.pydata.org/pandas-docs/stable/user_guide/indexing.html#ix-indexer-is-deprecated\n",
      "  return np.array([x for x in csv_file.ix[3, 1:].values if str(x) != 'nan']).astype(int)\n",
      "/home/sven/anaconda3/lib/python3.7/site-packages/pandas/core/indexing.py:961: FutureWarning: \n",
      ".ix is deprecated. Please use\n",
      ".loc for label based indexing or\n",
      ".iloc for positional indexing\n",
      "\n",
      "See the documentation here:\n",
      "http://pandas.pydata.org/pandas-docs/stable/user_guide/indexing.html#ix-indexer-is-deprecated\n",
      "  return getattr(section, self.name)[new_key]\n",
      "/home/sven/PycharmProjects/DeepDIVA-Private-segmentation_original/template/setup.py:415: FutureWarning: \n",
      ".ix is deprecated. Please use\n",
      ".loc for label based indexing or\n",
      ".iloc for positional indexing\n",
      "\n",
      "See the documentation here:\n",
      "http://pandas.pydata.org/pandas-docs/stable/user_guide/indexing.html#ix-indexer-is-deprecated\n",
      "  mean = csv_file.ix[0, 1:3].values.astype(float)\n",
      "/home/sven/PycharmProjects/DeepDIVA-Private-segmentation_original/template/setup.py:416: FutureWarning: \n",
      ".ix is deprecated. Please use\n",
      ".loc for label based indexing or\n",
      ".iloc for positional indexing\n",
      "\n",
      "See the documentation here:\n",
      "http://pandas.pydata.org/pandas-docs/stable/user_guide/indexing.html#ix-indexer-is-deprecated\n",
      "  std = csv_file.ix[1, 1:3].values.astype(float)\n"
     ]
    }
   ],
   "source": [
    "from template.runner.semantic_segmentation.setup import set_up_dataloaders\n",
    "\n",
    "train_loader, val_loader, test_loader  = set_up_dataloaders(model_expected_input_size = (254,254), \n",
    "                                                           dataset_folder = \"/home/sven/Desktop/data/new_data/new_images\", \n",
    "                                                           batch_size = 4, \n",
    "                                                           workers = 1,\n",
    "                                                           disable_dataset_integrity=False, \n",
    "                                                           enable_deep_dataset_integrity=True, \n",
    "                                                           inmem=False, \n",
    "                                                           runner_class = \"semantic_segmentation\",\n",
    "                                                           imgs_in_memory = 5, \n",
    "                                                           crop_size = 256,\n",
    "                                                           crops_per_image = 10)"
   ]
  },
  {
   "cell_type": "code",
   "execution_count": null,
   "metadata": {
    "pycharm": {
     "is_executing": false
    }
   },
   "outputs": [],
   "source": [
    "len(train_loader)"
   ]
  },
  {
   "cell_type": "code",
   "execution_count": null,
   "metadata": {},
   "outputs": [],
   "source": []
  },
  {
   "cell_type": "code",
   "execution_count": null,
   "metadata": {},
   "outputs": [],
   "source": []
  },
  {
   "cell_type": "code",
   "execution_count": null,
   "metadata": {},
   "outputs": [],
   "source": []
  },
  {
   "cell_type": "code",
   "execution_count": null,
   "metadata": {},
   "outputs": [],
   "source": []
  },
  {
   "cell_type": "markdown",
   "metadata": {},
   "source": [
    "#### extract a batch (images + masks)"
   ]
  },
  {
   "cell_type": "code",
   "execution_count": 24,
   "metadata": {
    "pycharm": {
     "is_executing": false
    }
   },
   "outputs": [
    {
     "name": "stdout",
     "output_type": "stream",
     "text": [
      "torch.Size([3, 256, 256])\n",
      "(3, 256, 256)\n"
     ]
    },
    {
     "name": "stderr",
     "output_type": "stream",
     "text": [
      "WARNING:matplotlib.image:Clipping input data to the valid range for imshow with RGB data ([0..1] for floats or [0..255] for integers).\n"
     ]
    },
    {
     "data": {
      "image/png": "[encoded data removed]",
      "text/plain": [
       "<Figure size 432x288 with 1 Axes>"
      ]
     },
     "metadata": {
      "needs_background": "light"
     },
     "output_type": "display_data"
    }
   ],
   "source": [
    "#if it is not possible to extract the images from the batch, you may have to delet the csv file.\n",
    "# it will autmatically create a new csv file.\n",
    "import matplotlib.pyplot as plt\n",
    "import numpy as np\n",
    "%matplotlib inline\n",
    "batch = next(iter(train_loader))\n",
    "\n",
    "print(np.shape(batch[0][0]))\n",
    "img = np.array(batch[0][0])\n",
    "print(np.shape(img))\n",
    "plt.imshow(np.transpose(batch[0][0], (1,2,0)))\n",
    "plt.show()"
   ]
  },
  {
   "cell_type": "markdown",
   "metadata": {},
   "source": [
    "####  images "
   ]
  },
  {
   "cell_type": "code",
   "execution_count": 3,
   "metadata": {
    "pycharm": {
     "is_executing": false
    }
   },
   "outputs": [
    {
     "data": {
      "text/plain": [
       "torch.Size([4, 3, 256, 256])"
      ]
     },
     "execution_count": 3,
     "metadata": {},
     "output_type": "execute_result"
    }
   ],
   "source": [
    "batch[0].shape"
   ]
  },
  {
   "cell_type": "markdown",
   "metadata": {},
   "source": [
    "#### masks"
   ]
  },
  {
   "cell_type": "code",
   "execution_count": 4,
   "metadata": {
    "pycharm": {
     "is_executing": false
    }
   },
   "outputs": [
    {
     "data": {
      "text/plain": [
       "torch.Size([4, 256, 256])"
      ]
     },
     "execution_count": 4,
     "metadata": {},
     "output_type": "execute_result"
    }
   ],
   "source": [
    "batch[1].shape"
   ]
  },
  {
   "cell_type": "code",
   "execution_count": 5,
   "metadata": {},
   "outputs": [
    {
     "data": {
      "text/plain": [
       "torch.Size([3, 256, 256])"
      ]
     },
     "execution_count": 5,
     "metadata": {},
     "output_type": "execute_result"
    }
   ],
   "source": [
    "np.shape(batch[0][0])"
   ]
  },
  {
   "cell_type": "code",
   "execution_count": 17,
   "metadata": {},
   "outputs": [
    {
     "data": {
      "image/png": "[encoded data removed]",
      "text/plain": [
       "<Figure size 432x288 with 1 Axes>"
      ]
     },
     "metadata": {
      "needs_background": "light"
     },
     "output_type": "display_data"
    }
   ],
   "source": [
    "plt.imshow(batch[1][0])\n",
    "plt.show()"
   ]
  },
  {
   "cell_type": "markdown",
   "metadata": {},
   "source": [
    "### load best model ??"
   ]
  },
  {
   "cell_type": "code",
   "execution_count": 7,
   "metadata": {},
   "outputs": [],
   "source": [
    "from template.setup import set_up_model"
   ]
  },
  {
   "cell_type": "code",
   "execution_count": 8,
   "metadata": {},
   "outputs": [],
   "source": [
    "model, criterion, optimizer, best_value = set_up_model(output_channels = 8, model_name = \"unet\", pretrained = True, no_cuda = False, \n",
    "             resume = \"/home/sven/Segmentation/results/unet_unifr_cluster/02-12-19-19h-42m-34s/checkpoint.pth.tar\",\n",
    "             load_model = \"/home/sven/Segmentation/results/unet_unifr_cluster/02-12-19-19h-42m-34s/model_best.pth.tar\", \n",
    "             disable_databalancing = True, \n",
    "             dataset_folder = \"/home/sven/Desktop/GlaS/test/data/testB_1.png\",\n",
    "             inmem=False, workers=4, optimizer_name=\"SGD\", criterion_name=\"CrossEntropyLoss\", num_classes=2, ablate=False, lr= 0.01)"
   ]
  },
  {
   "cell_type": "code",
   "execution_count": 9,
   "metadata": {},
   "outputs": [
    {
     "data": {
      "text/plain": [
       "2"
      ]
     },
     "execution_count": 9,
     "metadata": {},
     "output_type": "execute_result"
    }
   ],
   "source": [
    "len(batch)"
   ]
  },
  {
   "cell_type": "markdown",
   "metadata": {},
   "source": [
    "#### pass a batch through the network"
   ]
  },
  {
   "cell_type": "code",
   "execution_count": 10,
   "metadata": {},
   "outputs": [],
   "source": [
    "pred = model(batch[0])\n",
    "pred_detach = pred.detach()\n",
    "pred_cpu = pred_detach.cpu()\n",
    "pred_array = np.array(pred_cpu)"
   ]
  },
  {
   "cell_type": "markdown",
   "metadata": {},
   "source": [
    "#### plot the first prediction of the network"
   ]
  },
  {
   "cell_type": "code",
   "execution_count": 11,
   "metadata": {},
   "outputs": [
    {
     "data": {
      "text/plain": [
       "(256, 256)"
      ]
     },
     "execution_count": 11,
     "metadata": {},
     "output_type": "execute_result"
    }
   ],
   "source": [
    "pred_array[0][0].shape"
   ]
  },
  {
   "cell_type": "code",
   "execution_count": 12,
   "metadata": {},
   "outputs": [
    {
     "data": {
      "image/png": "[encoded data removed]",
      "text/plain": [
       "<Figure size 432x288 with 1 Axes>"
      ]
     },
     "metadata": {
      "needs_background": "light"
     },
     "output_type": "display_data"
    }
   ],
   "source": [
    "%matplotlib inline\n",
    "\n",
    "#plt.imshow(pred_array[0][1])\n",
    "plt.imshow(pred_array[0][1])\n",
    "plt.show()"
   ]
  },
  {
   "cell_type": "code",
   "execution_count": null,
   "metadata": {},
   "outputs": [],
   "source": []
  },
  {
   "cell_type": "code",
   "execution_count": null,
   "metadata": {},
   "outputs": [],
   "source": []
  },
  {
   "cell_type": "markdown",
   "metadata": {},
   "source": [
    "#### plot the orignal image"
   ]
  },
  {
   "cell_type": "code",
   "execution_count": null,
   "metadata": {},
   "outputs": [],
   "source": [
    "np.array(batch[0][0]).shape"
   ]
  },
  {
   "cell_type": "code",
   "execution_count": null,
   "metadata": {},
   "outputs": [],
   "source": [
    "original_image = batch[0][0]\n",
    "original_image = np.array(original_image)\n",
    "plt.imshow(np.transpose(original_image, (1,2,0)))\n",
    "plt.show()"
   ]
  },
  {
   "cell_type": "markdown",
   "metadata": {},
   "source": [
    "#### plot mask"
   ]
  },
  {
   "cell_type": "code",
   "execution_count": null,
   "metadata": {},
   "outputs": [],
   "source": [
    "plt.imshow(np.array(batch[1][0]))\n",
    "plt.show()"
   ]
  },
  {
   "cell_type": "markdown",
   "metadata": {},
   "source": [
    "### Define softmax function (can not import softmax and crf function) "
   ]
  },
  {
   "cell_type": "code",
   "execution_count": null,
   "metadata": {},
   "outputs": [],
   "source": [
    "def softmax(X, theta = 1.0, axis = None):\n",
    "    \"\"\"\n",
    "    Compute the softmax of each element along an axis of X.\n",
    "    Parameters\n",
    "    ----------\n",
    "    X: ND-Array. Probably should be floats.\n",
    "    theta (optional): float parameter, used as a multiplier\n",
    "        prior to exponentiation. Default = 1.0\n",
    "    axis (optional): axis to compute values along. Default is the\n",
    "        first non-singleton axis.\n",
    "    Returns an array the same size as X. The result will sum to 1\n",
    "    along the specified axis.\n",
    "    \"\"\"\n",
    "\n",
    "    # make X at least 2d\n",
    "    y = np.atleast_2d(X)\n",
    "\n",
    "    # find axis\n",
    "    if axis is None:\n",
    "        axis = next(j[0] for j in enumerate(y.shape) if j[1] > 1)\n",
    "\n",
    "    # multiply y against the theta parameter,\n",
    "    y = y * float(theta)\n",
    "\n",
    "    # subtract the max for numerical stability\n",
    "    y = y - np.expand_dims(np.max(y, axis = axis), axis)\n",
    "\n",
    "    # exponentiate y\n",
    "    y = np.exp(y)\n",
    "\n",
    "    # take the sum along the specified axis\n",
    "    ax_sum = np.expand_dims(np.sum(y, axis = axis), axis)\n",
    "\n",
    "    # finally: divide elementwise\n",
    "    p = y / ax_sum\n",
    "\n",
    "    # flatten if X was 1D\n",
    "    if len(X.shape) == 1: p = p.flatten()\n",
    "\n",
    "    return p\n"
   ]
  },
  {
   "cell_type": "markdown",
   "metadata": {},
   "source": [
    "### Show original image"
   ]
  },
  {
   "cell_type": "code",
   "execution_count": null,
   "metadata": {},
   "outputs": [],
   "source": [
    "original_image = np.array(batch[0][0])\n",
    "print(\"original_image: max:\", original_image.max(), \"min:\", original_image.min())\n",
    "print(np.shape(original_image))"
   ]
  },
  {
   "cell_type": "markdown",
   "metadata": {},
   "source": [
    "#### required shape of original image"
   ]
  },
  {
   "cell_type": "code",
   "execution_count": null,
   "metadata": {},
   "outputs": [],
   "source": [
    "original_image = np.transpose(original_image, (1,2,0))\n",
    "original_image.shape"
   ]
  },
  {
   "cell_type": "markdown",
   "metadata": {},
   "source": [
    "### show output"
   ]
  },
  {
   "cell_type": "code",
   "execution_count": null,
   "metadata": {},
   "outputs": [],
   "source": [
    "output = pred_array[0]\n",
    "output\n",
    "print(\"output: max:\", output.max(), \"min:\", output.min())\n",
    "print(np.shape(output))"
   ]
  },
  {
   "cell_type": "markdown",
   "metadata": {},
   "source": [
    "## crf"
   ]
  },
  {
   "cell_type": "code",
   "execution_count": null,
   "metadata": {},
   "outputs": [],
   "source": [
    "import numpy as np\n",
    "\n",
    "\"\"\"\n",
    "Function which returns the labelled image after applying CRF\n",
    "adapted from https://github.com/lucasb-eyer/pydensecrf/tree/master/pydensecrf.\n",
    "\"\"\"\n",
    "nb_iterations=1\n",
    "sxy1=(3, 3)\n",
    "sxy2=(80, 80)\n",
    "compat=3\n",
    "srgb=(13, 13, 13)\n",
    "\n",
    "\n",
    "\"\"\"\n",
    "Parameters explained https://github.com/lucasb-eyer/pydensecrf\n",
    "Parameters\n",
    "----------\n",
    "original_image : H x W x RGB\n",
    "     [0:255]\n",
    "output : C x H x W\n",
    "    float confidence of the network\n",
    "Returns\n",
    "-------\n",
    "H x W\n",
    "    map of the selected labels, [0..C] where C is the number of classes\n",
    "\"\"\"\n",
    "import pydensecrf.densecrf as dcrf\n",
    "from pydensecrf.utils import unary_from_softmax\n",
    "\n",
    "original_image = original_image.astype(np.uint8)\n",
    "print(\"original_image: max:\", original_image.max(), \"min:\", original_image.min())\n",
    "print(np.shape(original_image))\n",
    "\n",
    "\n",
    "# The output needs to be between 0 and 1\n",
    "if np.max(output) > 1 or np.min(output) < 0:\n",
    "    output = softmax(output, axis=0)\n",
    "print(\"output: max:\", output.max(), \"min:\", output.min())\n",
    "print(np.shape(output))\n",
    "\n",
    "\n",
    "# Make the array contiguous in memory\n",
    "output = output.copy(order='C')\n",
    "print(\"output: max:\", output.max(), \"min:\", output.min())\n",
    "print(np.shape(output))\n",
    "\n",
    "\n"
   ]
  },
  {
   "cell_type": "code",
   "execution_count": null,
   "metadata": {},
   "outputs": [],
   "source": [
    "\n",
    "\n",
    "f, axarr = plt.subplots(1,2)\n",
    "axarr[0].imshow(original_image)\n",
    "axarr[1].imshow(np.transpose(output, (1,2,0))[:,:,1])"
   ]
  },
  {
   "cell_type": "code",
   "execution_count": null,
   "metadata": {},
   "outputs": [],
   "source": [
    "d = dcrf.DenseCRF2D(original_image.shape[1], original_image.shape[0], output.shape[0])\n",
    "print(d)\n",
    "print(original_image.shape[1], original_image.shape[0],output.shape[0])\n",
    "U = unary_from_softmax(output)\n",
    "print(U.shape)\n",
    "d.setUnaryEnergy(U)\n",
    "\n",
    "d.addPairwiseGaussian(sxy=sxy1, \n",
    "                      compat=compat, \n",
    "                      kernel=dcrf.DIAG_KERNEL, \n",
    "                      normalization=dcrf.NORMALIZE_SYMMETRIC)"
   ]
  },
  {
   "cell_type": "markdown",
   "metadata": {},
   "source": [
    "#### I had to add this line, otherwise there is an error"
   ]
  },
  {
   "cell_type": "code",
   "execution_count": null,
   "metadata": {},
   "outputs": [],
   "source": [
    "original_image = original_image.copy(order='C')"
   ]
  },
  {
   "cell_type": "code",
   "execution_count": null,
   "metadata": {},
   "outputs": [],
   "source": []
  },
  {
   "cell_type": "code",
   "execution_count": null,
   "metadata": {},
   "outputs": [],
   "source": [
    "# This adds the color-dependent term, i.e. features are (x,y,r,g,b).\n",
    "# im is an image-array, e.g. im.dtype == np.uint8 and im.shape == (640,480,3)\n",
    "d.addPairwiseBilateral(sxy=sxy2,\n",
    "                       srgb=srgb,\n",
    "                       rgbim=original_image,\n",
    "                       compat=compat*3,\n",
    "                       kernel=dcrf.DIAG_KERNEL,\n",
    "                       normalization=dcrf.NORMALIZE_SYMMETRIC)\n",
    "Q = d.inference(nb_iterations)\n",
    "\n",
    "labeled_image = np.argmax(Q, axis=0).reshape(original_image.shape[0], original_image.shape[1])"
   ]
  },
  {
   "cell_type": "code",
   "execution_count": null,
   "metadata": {},
   "outputs": [],
   "source": []
  },
  {
   "cell_type": "code",
   "execution_count": null,
   "metadata": {},
   "outputs": [],
   "source": []
  },
  {
   "cell_type": "code",
   "execution_count": null,
   "metadata": {},
   "outputs": [],
   "source": [
    "\n",
    "pred = np.argmax(output, axis=0)\n",
    "mask = np.array(batch[1][0])"
   ]
  },
  {
   "cell_type": "code",
   "execution_count": null,
   "metadata": {},
   "outputs": [],
   "source": [
    "f, axarr = plt.subplots(1,3)\n",
    "\n",
    "axarr[0].imshow(labeled_image, )\n",
    "axarr[0].set_title('labeled_image (CRF)')\n",
    "axarr[1].imshow(pred)\n",
    "axarr[1].set_title('pred (argmax)')\n",
    "axarr[2].imshow(mask)\n",
    "axarr[2].set_title('mask')\n"
   ]
  },
  {
   "cell_type": "code",
   "execution_count": null,
   "metadata": {},
   "outputs": [],
   "source": []
  },
  {
   "cell_type": "markdown",
   "metadata": {},
   "source": [
    "#### what is class_encodings ????"
   ]
  },
  {
   "cell_type": "code",
   "execution_count": null,
   "metadata": {},
   "outputs": [],
   "source": [
    "from template.runner.semantic_segmentation.setup import output_to_class_encodings\n",
    "\n",
    "output_encoded = output_to_class_encodings(output, class_encodings)"
   ]
  },
  {
   "cell_type": "code",
   "execution_count": null,
   "metadata": {},
   "outputs": [],
   "source": []
  },
  {
   "cell_type": "code",
   "execution_count": null,
   "metadata": {},
   "outputs": [],
   "source": []
  },
  {
   "cell_type": "code",
   "execution_count": null,
   "metadata": {},
   "outputs": [],
   "source": []
  },
  {
   "cell_type": "code",
   "execution_count": null,
   "metadata": {},
   "outputs": [],
   "source": []
  },
  {
   "cell_type": "code",
   "execution_count": null,
   "metadata": {},
   "outputs": [],
   "source": []
  },
  {
   "cell_type": "markdown",
   "metadata": {},
   "source": [
    "##  Prediction multiple images"
   ]
  },
  {
   "cell_type": "code",
   "execution_count": null,
   "metadata": {},
   "outputs": [],
   "source": [
    "from tqdm import tqdm\n",
    "from util.misc import AverageMeter\n",
    "import time\n",
    "\n",
    "data_time = AverageMeter()\n",
    "end = time.time()\n",
    "no_cuda = True\n",
    "\n",
    "pbar = tqdm(enumerate(train_loader), total=len(train_loader), unit='batch', ncols=150, leave=False)\n",
    "for batch_idx, (input, target) in pbar:\n",
    "    # Measure data loading time\n",
    "    data_time.update(time.time() - end)\n",
    "    \n",
    "            # Moving data to GPU\n",
    "    if not no_cuda:\n",
    "        input = input.cuda(non_blocking=True)\n",
    "        target = target.cuda(non_blocking=True)\n",
    "    \n",
    "    print(input.shape)\n",
    "    output = model(input)\n",
    "    \n",
    "\n"
   ]
  },
  {
   "cell_type": "code",
   "execution_count": null,
   "metadata": {},
   "outputs": [],
   "source": [
    "output = output.detach()"
   ]
  },
  {
   "cell_type": "code",
   "execution_count": null,
   "metadata": {},
   "outputs": [],
   "source": [
    "output_cpu = output.cpu()"
   ]
  },
  {
   "cell_type": "code",
   "execution_count": null,
   "metadata": {},
   "outputs": [],
   "source": [
    "output_array = np.array(output_cpu)"
   ]
  },
  {
   "cell_type": "code",
   "execution_count": null,
   "metadata": {},
   "outputs": [],
   "source": [
    "output_array.shape"
   ]
  },
  {
   "cell_type": "code",
   "execution_count": null,
   "metadata": {},
   "outputs": [],
   "source": [
    "output_array[1,:,:,:].shape"
   ]
  },
  {
   "cell_type": "code",
   "execution_count": null,
   "metadata": {},
   "outputs": [],
   "source": [
    "output_one_img = output_array[1,:,:,:]"
   ]
  },
  {
   "cell_type": "code",
   "execution_count": null,
   "metadata": {},
   "outputs": [],
   "source": [
    "output_one_img.shape"
   ]
  },
  {
   "cell_type": "code",
   "execution_count": null,
   "metadata": {},
   "outputs": [],
   "source": [
    "output_one_channel = output_one_img[0,:,:]"
   ]
  },
  {
   "cell_type": "code",
   "execution_count": null,
   "metadata": {},
   "outputs": [],
   "source": [
    "plt.imshow(output_one_channel)\n",
    "plt.show()"
   ]
  },
  {
   "cell_type": "code",
   "execution_count": null,
   "metadata": {},
   "outputs": [],
   "source": [
    "new = output_one_img.transpose(1,2,0)"
   ]
  },
  {
   "cell_type": "code",
   "execution_count": null,
   "metadata": {},
   "outputs": [],
   "source": []
  },
  {
   "cell_type": "code",
   "execution_count": null,
   "metadata": {},
   "outputs": [],
   "source": [
    "prediction = np.argmax(output.cpu(), axis=0)"
   ]
  },
  {
   "cell_type": "code",
   "execution_count": null,
   "metadata": {},
   "outputs": [],
   "source": [
    "prediction.shape"
   ]
  },
  {
   "cell_type": "code",
   "execution_count": null,
   "metadata": {},
   "outputs": [],
   "source": [
    "prediction_array = np.array(prediction)"
   ]
  },
  {
   "cell_type": "code",
   "execution_count": null,
   "metadata": {},
   "outputs": [],
   "source": [
    "plt.imshow(prediction_array[0,:,:])\n",
    "plt.show()"
   ]
  },
  {
   "cell_type": "code",
   "execution_count": null,
   "metadata": {},
   "outputs": [],
   "source": [
    "plt.imshow(prediction_array[1,:,:])\n",
    "plt.show()"
   ]
  },
  {
   "cell_type": "code",
   "execution_count": null,
   "metadata": {},
   "outputs": [],
   "source": [
    "original_image_tensor = batch[0][3]"
   ]
  },
  {
   "cell_type": "code",
   "execution_count": null,
   "metadata": {},
   "outputs": [],
   "source": [
    "original_image_tensor.shape"
   ]
  },
  {
   "cell_type": "code",
   "execution_count": null,
   "metadata": {},
   "outputs": [],
   "source": [
    "original_image_tensor = batch[0][3]\n",
    "plt.imshow(np.transpose(np.array(original_image_tensor), (1,2,0)))"
   ]
  },
  {
   "cell_type": "code",
   "execution_count": null,
   "metadata": {},
   "outputs": [],
   "source": [
    "prediction = crf(original_image, outpu)"
   ]
  },
  {
   "cell_type": "code",
   "execution_count": null,
   "metadata": {},
   "outputs": [],
   "source": []
  },
  {
   "cell_type": "code",
   "execution_count": null,
   "metadata": {},
   "outputs": [],
   "source": [
    "import skimage"
   ]
  },
  {
   "cell_type": "code",
   "execution_count": null,
   "metadata": {},
   "outputs": [],
   "source": [
    "#new = skimage.transform.resize(output_one_img, (256, 256, 3))\n",
    "#np.shape(new)"
   ]
  },
  {
   "cell_type": "code",
   "execution_count": null,
   "metadata": {},
   "outputs": [],
   "source": [
    "output_one_img"
   ]
  },
  {
   "cell_type": "code",
   "execution_count": null,
   "metadata": {},
   "outputs": [],
   "source": []
  },
  {
   "cell_type": "code",
   "execution_count": null,
   "metadata": {},
   "outputs": [],
   "source": [
    "import matplotlib.pyplot as plt\n",
    "%matplotlib inline\n",
    "\n",
    "plt.imshow(new.astype('uint8'))\n",
    "plt.show()"
   ]
  },
  {
   "cell_type": "code",
   "execution_count": null,
   "metadata": {},
   "outputs": [],
   "source": []
  },
  {
   "cell_type": "markdown",
   "metadata": {},
   "source": [
    "## Dataloader from template.setup"
   ]
  },
  {
   "cell_type": "code",
   "execution_count": null,
   "metadata": {},
   "outputs": [],
   "source": [
    "from template.setup import set_up_dataloaders\n",
    "data_loader = set_up_dataloaders(model_expected_input_size = (254,254), \n",
    "                                                           dataset_folder = \"/home/sven/Desktop/data/GlaS_small\", \n",
    "                                                           batch_size = 4, \n",
    "                                                           workers = 1,\n",
    "                                                           disable_dataset_integrity=False, \n",
    "                                                           enable_deep_dataset_integrity=True, \n",
    "                                                           inmem=False, \n",
    "                                                           runner_class = \"semantic_segmentation\",\n",
    "                                                           imgs_in_memory = 5, \n",
    "                                                           crop_size = 256,\n",
    "                                                           crops_per_image = 10)\n",
    "\n",
    "train_loader = data_loader[0]\n",
    "val_loader = data_loader[1]\n",
    "test_loader = data_loader[2]\n",
    "\n",
    "len(train_loader)\n",
    "batch = next(iter(train_loader))\n",
    "\n",
    "img = batch.__getitem__(0)[0]\n",
    "print(type(img))\n",
    "print(img.shape)\n",
    "\n",
    "img_array = np.array(img)\n",
    "print(type(img))\n",
    "print(img.shape)\n",
    "\n",
    "plt.imshow(np.transpose(img_array,(1, 2, 0)))\n",
    "plt.show()"
   ]
  },
  {
   "cell_type": "code",
   "execution_count": null,
   "metadata": {},
   "outputs": [],
   "source": []
  },
  {
   "cell_type": "code",
   "execution_count": null,
   "metadata": {},
   "outputs": [],
   "source": []
  },
  {
   "cell_type": "code",
   "execution_count": null,
   "metadata": {},
   "outputs": [],
   "source": []
  },
  {
   "cell_type": "code",
   "execution_count": null,
   "metadata": {},
   "outputs": [],
   "source": []
  },
  {
   "cell_type": "code",
   "execution_count": null,
   "metadata": {},
   "outputs": [],
   "source": []
  },
  {
   "cell_type": "code",
   "execution_count": null,
   "metadata": {},
   "outputs": [],
   "source": []
  },
  {
   "cell_type": "markdown",
   "metadata": {},
   "source": [
    "### changes RGBA to RGB (only necessary if you save the images with matplotlib)"
   ]
  },
  {
   "cell_type": "code",
   "execution_count": null,
   "metadata": {},
   "outputs": [],
   "source": [
    "### the new images were saved in RGBA and not RGB, that is not true any more\n",
    "\n",
    "from PIL import Image\n",
    "\n",
    "png = Image.open(\"/home/sven/Desktop/data/new_data/patch1_mask.png\")\n",
    "png.load() # required for png.split()\n",
    "print(np.shape(png))\n",
    "\n",
    "background = Image.new(\"RGB\", png.size, (255, 255, 255))\n",
    "background.paste(png, mask=png.split()[3]) # 3 is the alpha channel\n",
    "\n",
    "print(np.shape(background))\n",
    "plt.imshow(background)\n",
    "plt.show()\n",
    "\n",
    "#background.save('foo.jpg', 'JPEG', quality=80)"
   ]
  }
 ],
 "metadata": {
  "kernelspec": {
   "display_name": "Python 3",
   "language": "python",
   "name": "python3"
  },
  "language_info": {
   "codemirror_mode": {
    "name": "ipython",
    "version": 3
   },
   "file_extension": ".py",
   "mimetype": "text/x-python",
   "name": "python",
   "nbconvert_exporter": "python",
   "pygments_lexer": "ipython3",
   "version": "3.7.3"
  },
  "pycharm": {
   "stem_cell": {
    "cell_type": "raw",
    "metadata": {
     "collapsed": false
    },
    "source": []
   }
  }
 },
 "nbformat": 4,
 "nbformat_minor": 2
}
